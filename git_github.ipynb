{
  "nbformat": 4,
  "nbformat_minor": 0,
  "metadata": {
    "colab": {
      "provenance": []
    },
    "kernelspec": {
      "name": "python3",
      "display_name": "Python 3"
    },
    "language_info": {
      "name": "python"
    }
  },
  "cells": [
    {
      "cell_type": "code",
      "execution_count": 1,
      "metadata": {
        "colab": {
          "base_uri": "https://localhost:8080/"
        },
        "id": "nmrdrXMapX-N",
        "outputId": "c5102edc-0c21-4009-9d93-54b036f14f60"
      },
      "outputs": [
        {
          "output_type": "stream",
          "name": "stdout",
          "text": [
            "git and github\n"
          ]
        }
      ],
      "source": [
        "print(\"git and github\")"
      ]
    },
    {
      "cell_type": "code",
      "source": [
        "5+5 # addition\n"
      ],
      "metadata": {
        "colab": {
          "base_uri": "https://localhost:8080/"
        },
        "id": "2XgUEVSftuSE",
        "outputId": "ca92a5f1-6800-476b-ae20-da7207eb276b"
      },
      "execution_count": 2,
      "outputs": [
        {
          "output_type": "execute_result",
          "data": {
            "text/plain": [
              "10"
            ]
          },
          "metadata": {},
          "execution_count": 2
        }
      ]
    },
    {
      "cell_type": "code",
      "source": [],
      "metadata": {
        "id": "bK1vgSXW4Cim"
      },
      "execution_count": null,
      "outputs": []
    }
  ]
}